{
  "nbformat": 4,
  "nbformat_minor": 0,
  "metadata": {
    "colab": {
      "name": "exo.ipynb",
      "provenance": [],
      "authorship_tag": "ABX9TyNOjpiWyVR4wnIayqUWBP65",
      "include_colab_link": true
    },
    "kernelspec": {
      "name": "python3",
      "display_name": "Python 3"
    }
  },
  "cells": [
    {
      "cell_type": "markdown",
      "metadata": {
        "id": "view-in-github",
        "colab_type": "text"
      },
      "source": [
        "<a href=\"https://colab.research.google.com/github/Balgaros/Python/blob/master/exo.ipynb\" target=\"_parent\"><img src=\"https://colab.research.google.com/assets/colab-badge.svg\" alt=\"Open In Colab\"/></a>"
      ]
    },
    {
      "cell_type": "code",
      "metadata": {
        "id": "k4QuKpFhhuMl",
        "colab_type": "code",
        "colab": {
          "base_uri": "https://localhost:8080/",
          "height": 69
        },
        "outputId": "8b3f88d4-1ff5-4edf-acff-edcd9cbf38b4"
      },
      "source": [
        "print ('Veuillez entrer un nombre: ')\n",
        "nombre =int(input())\n",
        "print(\"le carré de \", nombre, \" est \", nombre**2)"
      ],
      "execution_count": 4,
      "outputs": [
        {
          "output_type": "stream",
          "text": [
            "Veuillez entrer un nombre: \n",
            "5\n",
            "le carré de  5  est  25\n"
          ],
          "name": "stdout"
        }
      ]
    },
    {
      "cell_type": "code",
      "metadata": {
        "id": "d-iS6ToWh0Fr",
        "colab_type": "code",
        "colab": {
          "base_uri": "https://localhost:8080/",
          "height": 69
        },
        "outputId": "80d5533f-5586-40ea-af57-972762c640c1"
      },
      "source": [
        "print ('Veuillez entrer un nombre: ')\n",
        "nombre =int(input())\n",
        "if nombre < 0 :\n",
        "  print (\"Négatif\")\n",
        "else :\n",
        "  print (\"Positif\")"
      ],
      "execution_count": 1,
      "outputs": [
        {
          "output_type": "stream",
          "text": [
            "Veuillez entrer un nombre: \n",
            "-6\n",
            "Négatif\n"
          ],
          "name": "stdout"
        }
      ]
    },
    {
      "cell_type": "code",
      "metadata": {
        "id": "wrwWndOXh2Je",
        "colab_type": "code",
        "colab": {
          "base_uri": "https://localhost:8080/",
          "height": 104
        },
        "outputId": "02763198-178e-405e-ea4a-e26bc570279b"
      },
      "source": [
        "print ('Veuillez entrer le premier nombre: ')\n",
        "nombre =int(input())\n",
        "print ('Veuillez entrer le second nombre: ')\n",
        "nombre2 =int(input())\n",
        "S = nombre + nombre2\n",
        "if S < 0 :\n",
        "  print (\"Négatif\")\n",
        "else :\n",
        "  print (\"Positif\")"
      ],
      "execution_count": 2,
      "outputs": [
        {
          "output_type": "stream",
          "text": [
            "Veuillez entrer le premier nombre: \n",
            "4\n",
            "Veuillez entrer le second nombre: \n",
            "2\n",
            "Positif\n"
          ],
          "name": "stdout"
        }
      ]
    },
    {
      "cell_type": "code",
      "metadata": {
        "id": "-a1f3kxdh4Zt",
        "colab_type": "code",
        "colab": {
          "base_uri": "https://localhost:8080/",
          "height": 225
        },
        "outputId": "4ea2a5a0-75ed-4d9b-fa5d-c006f760c614"
      },
      "source": [
        "print ('Veuillez entrer le premier nombre: ')\n",
        "nombre =int(input())\n",
        "i=0\n",
        "while i < 10 :\n",
        "  i=i+1\n",
        "  nombre=nombre+1\n",
        "  print (nombre)"
      ],
      "execution_count": 3,
      "outputs": [
        {
          "output_type": "stream",
          "text": [
            "Veuillez entrer le premier nombre: \n",
            "4\n",
            "5\n",
            "6\n",
            "7\n",
            "8\n",
            "9\n",
            "10\n",
            "11\n",
            "12\n",
            "13\n",
            "14\n"
          ],
          "name": "stdout"
        }
      ]
    },
    {
      "cell_type": "code",
      "metadata": {
        "id": "b_62mAKqh8pD",
        "colab_type": "code",
        "colab": {}
      },
      "source": [
        "print ('Veuillez entrer le premier nombre: ')\n",
        "nombre =int(input())\n",
        "s=0\n",
        "for i in range (0,nombre) :\n",
        "  s=s+i\n",
        "  print (s, \"+\")"
      ],
      "execution_count": null,
      "outputs": []
    }
  ]
}