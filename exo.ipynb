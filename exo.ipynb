{
  "nbformat": 4,
  "nbformat_minor": 0,
  "metadata": {
    "colab": {
      "name": "exo.ipynb",
      "provenance": [],
      "authorship_tag": "ABX9TyObUGOQJdyedxERaGNPna+0",
      "include_colab_link": true
    },
    "kernelspec": {
      "name": "python3",
      "display_name": "Python 3"
    }
  },
  "cells": [
    {
      "cell_type": "markdown",
      "metadata": {
        "id": "view-in-github",
        "colab_type": "text"
      },
      "source": [
        "<a href=\"https://colab.research.google.com/github/Balgaros/Python/blob/master/exo.ipynb\" target=\"_parent\"><img src=\"https://colab.research.google.com/assets/colab-badge.svg\" alt=\"Open In Colab\"/></a>"
      ]
    },
    {
      "cell_type": "code",
      "metadata": {
        "id": "k4QuKpFhhuMl",
        "colab_type": "code",
        "colab": {
          "base_uri": "https://localhost:8080/",
          "height": 69
        },
        "outputId": "8b3f88d4-1ff5-4edf-acff-edcd9cbf38b4"
      },
      "source": [
        "print ('Veuillez entrer un nombre: ')\n",
        "nombre =int(input())\n",
        "print(\"le carré de \", nombre, \" est \", nombre**2)"
      ],
      "execution_count": 4,
      "outputs": [
        {
          "output_type": "stream",
          "text": [
            "Veuillez entrer un nombre: \n",
            "5\n",
            "le carré de  5  est  25\n"
          ],
          "name": "stdout"
        }
      ]
    },
    {
      "cell_type": "code",
      "metadata": {
        "id": "d-iS6ToWh0Fr",
        "colab_type": "code",
        "colab": {
          "base_uri": "https://localhost:8080/",
          "height": 69
        },
        "outputId": "80d5533f-5586-40ea-af57-972762c640c1"
      },
      "source": [
        "print ('Veuillez entrer un nombre: ')\n",
        "nombre =int(input())\n",
        "if nombre < 0 :\n",
        "  print (\"Négatif\")\n",
        "else :\n",
        "  print (\"Positif\")"
      ],
      "execution_count": 1,
      "outputs": [
        {
          "output_type": "stream",
          "text": [
            "Veuillez entrer un nombre: \n",
            "-6\n",
            "Négatif\n"
          ],
          "name": "stdout"
        }
      ]
    },
    {
      "cell_type": "code",
      "metadata": {
        "id": "wrwWndOXh2Je",
        "colab_type": "code",
        "colab": {
          "base_uri": "https://localhost:8080/",
          "height": 104
        },
        "outputId": "02763198-178e-405e-ea4a-e26bc570279b"
      },
      "source": [
        "print ('Veuillez entrer le premier nombre: ')\n",
        "nombre =int(input())\n",
        "print ('Veuillez entrer le second nombre: ')\n",
        "nombre2 =int(input())\n",
        "S = nombre + nombre2\n",
        "if S < 0 :\n",
        "  print (\"Négatif\")\n",
        "else :\n",
        "  print (\"Positif\")"
      ],
      "execution_count": 2,
      "outputs": [
        {
          "output_type": "stream",
          "text": [
            "Veuillez entrer le premier nombre: \n",
            "4\n",
            "Veuillez entrer le second nombre: \n",
            "2\n",
            "Positif\n"
          ],
          "name": "stdout"
        }
      ]
    },
    {
      "cell_type": "code",
      "metadata": {
        "id": "-a1f3kxdh4Zt",
        "colab_type": "code",
        "colab": {
          "base_uri": "https://localhost:8080/",
          "height": 225
        },
        "outputId": "4ea2a5a0-75ed-4d9b-fa5d-c006f760c614"
      },
      "source": [
        "print ('Veuillez entrer le premier nombre: ')\n",
        "nombre =int(input())\n",
        "i=0\n",
        "while i < 10 :\n",
        "  i=i+1\n",
        "  nombre=nombre+1\n",
        "  print (nombre)"
      ],
      "execution_count": 3,
      "outputs": [
        {
          "output_type": "stream",
          "text": [
            "Veuillez entrer le premier nombre: \n",
            "4\n",
            "5\n",
            "6\n",
            "7\n",
            "8\n",
            "9\n",
            "10\n",
            "11\n",
            "12\n",
            "13\n",
            "14\n"
          ],
          "name": "stdout"
        }
      ]
    },
    {
      "cell_type": "code",
      "metadata": {
        "id": "b_62mAKqh8pD",
        "colab_type": "code",
        "colab": {
          "base_uri": "https://localhost:8080/",
          "height": 139
        },
        "outputId": "678444d6-8c66-4ef1-c126-77d0b5b513b9"
      },
      "source": [
        "print ('Veuillez entrer le premier nombre: ')\n",
        "nombre =int(input())\n",
        "s=0\n",
        "for i in range (0,nombre+1) :\n",
        "  s=s+i\n",
        "  print (s, \"+\")"
      ],
      "execution_count": 5,
      "outputs": [
        {
          "output_type": "stream",
          "text": [
            "Veuillez entrer le premier nombre: \n",
            "4\n",
            "0 +\n",
            "1 +\n",
            "3 +\n",
            "6 +\n",
            "10 +\n"
          ],
          "name": "stdout"
        }
      ]
    },
    {
      "cell_type": "code",
      "metadata": {
        "id": "6MRmI-UJ4jbx",
        "colab_type": "code",
        "colab": {
          "base_uri": "https://localhost:8080/",
          "height": 34
        },
        "outputId": "e4a0ac9e-5acc-42cc-d6ae-d60d9a59aade"
      },
      "source": [
        "\n",
        "tab = [10,15,7]\n",
        "print (tab[0]+tab[1]+tab[2])"
      ],
      "execution_count": 42,
      "outputs": [
        {
          "output_type": "stream",
          "text": [
            "32\n"
          ],
          "name": "stdout"
        }
      ]
    },
    {
      "cell_type": "code",
      "metadata": {
        "id": "BCH6DI_A9TA3",
        "colab_type": "code",
        "colab": {
          "base_uri": "https://localhost:8080/",
          "height": 34
        },
        "outputId": "46f0c31a-0972-4422-e991-53965009f6a4"
      },
      "source": [
        "tab = [10,15,7]\n",
        "tab2 = [20,12,10]\n",
        "tab3 = [0,0,0]\n",
        "tab3[0]=tab[0]+tab2[0]\n",
        "tab3[1]=tab[1]+tab2[1]\n",
        "tab3[2]=tab[2]+tab2[2]\n",
        "print (tab3)"
      ],
      "execution_count": 48,
      "outputs": [
        {
          "output_type": "stream",
          "text": [
            "[30, 27, 17]\n"
          ],
          "name": "stdout"
        }
      ]
    },
    {
      "cell_type": "code",
      "metadata": {
        "id": "3wkOlvQlAKfn",
        "colab_type": "code",
        "colab": {}
      },
      "source": [
        "tab = [10,15,7]\n",
        "tab2 = [20,12,10]\n",
        "n=0\n",
        "for element in range(0,2):\n",
        "  tab[n]=tab[n+1]\n",
        "  "
      ],
      "execution_count": null,
      "outputs": []
    },
    {
      "cell_type": "code",
      "metadata": {
        "id": "nNEv2xD8C6Fa",
        "colab_type": "code",
        "colab": {
          "base_uri": "https://localhost:8080/",
          "height": 34
        },
        "outputId": "de4bdb3f-2946-49d7-844b-99f86738d217"
      },
      "source": [
        "tab = [10,15,7]\n",
        "tab2 = [20,12,10]\n",
        "tab3[0]=tab[0]*tab2[0]\n",
        "tab3[1]=tab[1]*tab2[1]\n",
        "tab3[2]=tab[2]*tab2[2]\n",
        "tab3=tab3[0]+tab3[1]+tab3[2]\n",
        "print (tab3)"
      ],
      "execution_count": 55,
      "outputs": [
        {
          "output_type": "stream",
          "text": [
            "450\n"
          ],
          "name": "stdout"
        }
      ]
    }
  ]
}