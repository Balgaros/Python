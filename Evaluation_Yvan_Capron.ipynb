{
  "nbformat": 4,
  "nbformat_minor": 0,
  "metadata": {
    "colab": {
      "name": "Evaluation Yvan Capron",
      "provenance": [],
      "collapsed_sections": [],
      "authorship_tag": "ABX9TyOEJ+ps+dHCQ55qHx+fccET",
      "include_colab_link": true
    },
    "kernelspec": {
      "name": "python3",
      "display_name": "Python 3"
    }
  },
  "cells": [
    {
      "cell_type": "markdown",
      "metadata": {
        "id": "view-in-github",
        "colab_type": "text"
      },
      "source": [
        "<a href=\"https://colab.research.google.com/github/Balgaros/Python/blob/master/Evaluation_Yvan_Capron.ipynb\" target=\"_parent\"><img src=\"https://colab.research.google.com/assets/colab-badge.svg\" alt=\"Open In Colab\"/></a>"
      ]
    },
    {
      "cell_type": "code",
      "metadata": {
        "id": "MyO0ggXPvVJg",
        "colab_type": "code",
        "colab": {
          "base_uri": "https://localhost:8080/",
          "height": 54
        },
        "outputId": "f8c8766c-1ef3-44e1-d9ef-da11560905ff"
      },
      "source": [
        "\"Jeu de donnée à exploiter\"\n",
        "import pandas as pd\n",
        "import seaborn as sns\n",
        "import matplotlib as plt\n",
        "import numpy as np\n",
        "\n",
        "from google.colab import drive\n",
        "drive.mount('/content/drive')\n"
      ],
      "execution_count": 21,
      "outputs": [
        {
          "output_type": "stream",
          "text": [
            "Drive already mounted at /content/drive; to attempt to forcibly remount, call drive.mount(\"/content/drive\", force_remount=True).\n"
          ],
          "name": "stdout"
        }
      ]
    },
    {
      "cell_type": "code",
      "metadata": {
        "id": "Tq5YXDNB01fY",
        "colab_type": "code",
        "colab": {
          "base_uri": "https://localhost:8080/",
          "height": 260
        },
        "outputId": "5ca0b4db-1fb1-4669-d210-2c4c0435183b"
      },
      "source": [
        "df = pd.read_csv('/content/drive/My Drive/data.csv')\n",
        "df.info"
      ],
      "execution_count": 37,
      "outputs": [
        {
          "output_type": "execute_result",
          "data": {
            "text/plain": [
              "<bound method DataFrame.info of                  Country  ...             WHO Region\n",
              "0            Afghanistan  ...  Eastern Mediterranean\n",
              "1            Afghanistan  ...  Eastern Mediterranean\n",
              "2            Afghanistan  ...  Eastern Mediterranean\n",
              "3            Afghanistan  ...  Eastern Mediterranean\n",
              "4            Afghanistan  ...  Eastern Mediterranean\n",
              "...                  ...  ...                    ...\n",
              "2487  Russian Federation  ...                 Europe\n",
              "2488  Russian Federation  ...                 Europe\n",
              "2489              Sweden  ...                 Europe\n",
              "2490         Switzerland  ...                 Europe\n",
              "2491            Cambodia  ...        Western Pacific\n",
              "\n",
              "[2492 rows x 6 columns]>"
            ]
          },
          "metadata": {
            "tags": []
          },
          "execution_count": 37
        }
      ]
    },
    {
      "cell_type": "code",
      "metadata": {
        "id": "-DGaVTj69yUE",
        "colab_type": "code",
        "colab": {
          "base_uri": "https://localhost:8080/",
          "height": 345
        },
        "outputId": "3e5674b9-0240-4b11-b84e-085dd288a429"
      },
      "source": [
        "\"Analyser jeu de donnée\"\n",
        "df.head(5)"
      ],
      "execution_count": 34,
      "outputs": [
        {
          "output_type": "execute_result",
          "data": {
            "text/html": [
              "<div>\n",
              "<style scoped>\n",
              "    .dataframe tbody tr th:only-of-type {\n",
              "        vertical-align: middle;\n",
              "    }\n",
              "\n",
              "    .dataframe tbody tr th {\n",
              "        vertical-align: top;\n",
              "    }\n",
              "\n",
              "    .dataframe thead th {\n",
              "        text-align: right;\n",
              "    }\n",
              "</style>\n",
              "<table border=\"1\" class=\"dataframe\">\n",
              "  <thead>\n",
              "    <tr style=\"text-align: right;\">\n",
              "      <th></th>\n",
              "      <th>Country</th>\n",
              "      <th>Year</th>\n",
              "      <th>Number of reported cases of cholera</th>\n",
              "      <th>Number of reported deaths from cholera</th>\n",
              "      <th>Cholera case fatality rate</th>\n",
              "      <th>WHO Region</th>\n",
              "    </tr>\n",
              "  </thead>\n",
              "  <tbody>\n",
              "    <tr>\n",
              "      <th>0</th>\n",
              "      <td>Afghanistan</td>\n",
              "      <td>2016</td>\n",
              "      <td>677</td>\n",
              "      <td>5</td>\n",
              "      <td>0.7</td>\n",
              "      <td>Eastern Mediterranean</td>\n",
              "    </tr>\n",
              "    <tr>\n",
              "      <th>1</th>\n",
              "      <td>Afghanistan</td>\n",
              "      <td>2015</td>\n",
              "      <td>58064</td>\n",
              "      <td>8</td>\n",
              "      <td>0.01</td>\n",
              "      <td>Eastern Mediterranean</td>\n",
              "    </tr>\n",
              "    <tr>\n",
              "      <th>2</th>\n",
              "      <td>Afghanistan</td>\n",
              "      <td>2014</td>\n",
              "      <td>45481</td>\n",
              "      <td>4</td>\n",
              "      <td>0.0</td>\n",
              "      <td>Eastern Mediterranean</td>\n",
              "    </tr>\n",
              "    <tr>\n",
              "      <th>3</th>\n",
              "      <td>Afghanistan</td>\n",
              "      <td>2013</td>\n",
              "      <td>3957</td>\n",
              "      <td>14</td>\n",
              "      <td>0.35</td>\n",
              "      <td>Eastern Mediterranean</td>\n",
              "    </tr>\n",
              "    <tr>\n",
              "      <th>4</th>\n",
              "      <td>Afghanistan</td>\n",
              "      <td>2012</td>\n",
              "      <td>12</td>\n",
              "      <td>0</td>\n",
              "      <td>0.1</td>\n",
              "      <td>Eastern Mediterranean</td>\n",
              "    </tr>\n",
              "  </tbody>\n",
              "</table>\n",
              "</div>"
            ],
            "text/plain": [
              "       Country  Year  ... Cholera case fatality rate             WHO Region\n",
              "0  Afghanistan  2016  ...                        0.7  Eastern Mediterranean\n",
              "1  Afghanistan  2015  ...                       0.01  Eastern Mediterranean\n",
              "2  Afghanistan  2014  ...                        0.0  Eastern Mediterranean\n",
              "3  Afghanistan  2013  ...                       0.35  Eastern Mediterranean\n",
              "4  Afghanistan  2012  ...                        0.1  Eastern Mediterranean\n",
              "\n",
              "[5 rows x 6 columns]"
            ]
          },
          "metadata": {
            "tags": []
          },
          "execution_count": 34
        }
      ]
    },
    {
      "cell_type": "code",
      "metadata": {
        "id": "jtN9Bjgv_pc7",
        "colab_type": "code",
        "colab": {
          "base_uri": "https://localhost:8080/",
          "height": 139
        },
        "outputId": "c6eabffc-b7f8-444c-ae6b-e627bddb3c89"
      },
      "source": [
        "df.dtypes"
      ],
      "execution_count": 36,
      "outputs": [
        {
          "output_type": "execute_result",
          "data": {
            "text/plain": [
              "Country                                   object\n",
              "Year                                       int64\n",
              "Number of reported cases of cholera       object\n",
              "Number of reported deaths from cholera    object\n",
              "Cholera case fatality rate                object\n",
              "WHO Region                                object\n",
              "dtype: object"
            ]
          },
          "metadata": {
            "tags": []
          },
          "execution_count": 36
        }
      ]
    },
    {
      "cell_type": "code",
      "metadata": {
        "id": "bDpySosy6OQW",
        "colab_type": "code",
        "colab": {
          "base_uri": "https://localhost:8080/",
          "height": 243
        },
        "outputId": "f7f87a97-8e40-467a-f161-789ad1618c78"
      },
      "source": [
        "df.info()"
      ],
      "execution_count": 30,
      "outputs": [
        {
          "output_type": "stream",
          "text": [
            "<class 'pandas.core.frame.DataFrame'>\n",
            "RangeIndex: 2492 entries, 0 to 2491\n",
            "Data columns (total 6 columns):\n",
            " #   Column                                  Non-Null Count  Dtype \n",
            "---  ------                                  --------------  ----- \n",
            " 0   Country                                 2492 non-null   object\n",
            " 1   Year                                    2492 non-null   int64 \n",
            " 2   Number of reported cases of cholera     2470 non-null   object\n",
            " 3   Number of reported deaths from cholera  2375 non-null   object\n",
            " 4   Cholera case fatality rate              2365 non-null   object\n",
            " 5   WHO Region                              2492 non-null   object\n",
            "dtypes: int64(1), object(5)\n",
            "memory usage: 116.9+ KB\n"
          ],
          "name": "stdout"
        }
      ]
    },
    {
      "cell_type": "code",
      "metadata": {
        "id": "NBQC-3WB_7NR",
        "colab_type": "code",
        "colab": {
          "base_uri": "https://localhost:8080/",
          "height": 447
        },
        "outputId": "a6e73f4c-eccf-474d-cace-ed5cd49cbd14"
      },
      "source": [
        "df.describe(include='all')"
      ],
      "execution_count": 38,
      "outputs": [
        {
          "output_type": "execute_result",
          "data": {
            "text/html": [
              "<div>\n",
              "<style scoped>\n",
              "    .dataframe tbody tr th:only-of-type {\n",
              "        vertical-align: middle;\n",
              "    }\n",
              "\n",
              "    .dataframe tbody tr th {\n",
              "        vertical-align: top;\n",
              "    }\n",
              "\n",
              "    .dataframe thead th {\n",
              "        text-align: right;\n",
              "    }\n",
              "</style>\n",
              "<table border=\"1\" class=\"dataframe\">\n",
              "  <thead>\n",
              "    <tr style=\"text-align: right;\">\n",
              "      <th></th>\n",
              "      <th>Country</th>\n",
              "      <th>Year</th>\n",
              "      <th>Number of reported cases of cholera</th>\n",
              "      <th>Number of reported deaths from cholera</th>\n",
              "      <th>Cholera case fatality rate</th>\n",
              "      <th>WHO Region</th>\n",
              "    </tr>\n",
              "  </thead>\n",
              "  <tbody>\n",
              "    <tr>\n",
              "      <th>count</th>\n",
              "      <td>2492</td>\n",
              "      <td>2492.000000</td>\n",
              "      <td>2470</td>\n",
              "      <td>2375</td>\n",
              "      <td>2365</td>\n",
              "      <td>2492</td>\n",
              "    </tr>\n",
              "    <tr>\n",
              "      <th>unique</th>\n",
              "      <td>162</td>\n",
              "      <td>NaN</td>\n",
              "      <td>1306</td>\n",
              "      <td>438</td>\n",
              "      <td>846</td>\n",
              "      <td>6</td>\n",
              "    </tr>\n",
              "    <tr>\n",
              "      <th>top</th>\n",
              "      <td>India</td>\n",
              "      <td>NaN</td>\n",
              "      <td>1</td>\n",
              "      <td>0</td>\n",
              "      <td>0</td>\n",
              "      <td>Africa</td>\n",
              "    </tr>\n",
              "    <tr>\n",
              "      <th>freq</th>\n",
              "      <td>64</td>\n",
              "      <td>NaN</td>\n",
              "      <td>203</td>\n",
              "      <td>816</td>\n",
              "      <td>733</td>\n",
              "      <td>991</td>\n",
              "    </tr>\n",
              "    <tr>\n",
              "      <th>mean</th>\n",
              "      <td>NaN</td>\n",
              "      <td>1992.343098</td>\n",
              "      <td>NaN</td>\n",
              "      <td>NaN</td>\n",
              "      <td>NaN</td>\n",
              "      <td>NaN</td>\n",
              "    </tr>\n",
              "    <tr>\n",
              "      <th>std</th>\n",
              "      <td>NaN</td>\n",
              "      <td>14.834151</td>\n",
              "      <td>NaN</td>\n",
              "      <td>NaN</td>\n",
              "      <td>NaN</td>\n",
              "      <td>NaN</td>\n",
              "    </tr>\n",
              "    <tr>\n",
              "      <th>min</th>\n",
              "      <td>NaN</td>\n",
              "      <td>1949.000000</td>\n",
              "      <td>NaN</td>\n",
              "      <td>NaN</td>\n",
              "      <td>NaN</td>\n",
              "      <td>NaN</td>\n",
              "    </tr>\n",
              "    <tr>\n",
              "      <th>25%</th>\n",
              "      <td>NaN</td>\n",
              "      <td>1981.000000</td>\n",
              "      <td>NaN</td>\n",
              "      <td>NaN</td>\n",
              "      <td>NaN</td>\n",
              "      <td>NaN</td>\n",
              "    </tr>\n",
              "    <tr>\n",
              "      <th>50%</th>\n",
              "      <td>NaN</td>\n",
              "      <td>1994.000000</td>\n",
              "      <td>NaN</td>\n",
              "      <td>NaN</td>\n",
              "      <td>NaN</td>\n",
              "      <td>NaN</td>\n",
              "    </tr>\n",
              "    <tr>\n",
              "      <th>75%</th>\n",
              "      <td>NaN</td>\n",
              "      <td>2004.000000</td>\n",
              "      <td>NaN</td>\n",
              "      <td>NaN</td>\n",
              "      <td>NaN</td>\n",
              "      <td>NaN</td>\n",
              "    </tr>\n",
              "    <tr>\n",
              "      <th>max</th>\n",
              "      <td>NaN</td>\n",
              "      <td>2016.000000</td>\n",
              "      <td>NaN</td>\n",
              "      <td>NaN</td>\n",
              "      <td>NaN</td>\n",
              "      <td>NaN</td>\n",
              "    </tr>\n",
              "  </tbody>\n",
              "</table>\n",
              "</div>"
            ],
            "text/plain": [
              "       Country         Year  ... Cholera case fatality rate WHO Region\n",
              "count     2492  2492.000000  ...                       2365       2492\n",
              "unique     162          NaN  ...                        846          6\n",
              "top      India          NaN  ...                          0     Africa\n",
              "freq        64          NaN  ...                        733        991\n",
              "mean       NaN  1992.343098  ...                        NaN        NaN\n",
              "std        NaN    14.834151  ...                        NaN        NaN\n",
              "min        NaN  1949.000000  ...                        NaN        NaN\n",
              "25%        NaN  1981.000000  ...                        NaN        NaN\n",
              "50%        NaN  1994.000000  ...                        NaN        NaN\n",
              "75%        NaN  2004.000000  ...                        NaN        NaN\n",
              "max        NaN  2016.000000  ...                        NaN        NaN\n",
              "\n",
              "[11 rows x 6 columns]"
            ]
          },
          "metadata": {
            "tags": []
          },
          "execution_count": 38
        }
      ]
    },
    {
      "cell_type": "code",
      "metadata": {
        "id": "v4jt2rMI4Urx",
        "colab_type": "code",
        "colab": {
          "base_uri": "https://localhost:8080/",
          "height": 597
        },
        "outputId": "efeb4df8-9170-4664-8d07-7c2d722249db"
      },
      "source": [
        "\"Traiter les NAN ici avec des 2\"\n",
        "df.dropna()\n",
        "df.fillna(2)"
      ],
      "execution_count": 35,
      "outputs": [
        {
          "output_type": "execute_result",
          "data": {
            "text/html": [
              "<div>\n",
              "<style scoped>\n",
              "    .dataframe tbody tr th:only-of-type {\n",
              "        vertical-align: middle;\n",
              "    }\n",
              "\n",
              "    .dataframe tbody tr th {\n",
              "        vertical-align: top;\n",
              "    }\n",
              "\n",
              "    .dataframe thead th {\n",
              "        text-align: right;\n",
              "    }\n",
              "</style>\n",
              "<table border=\"1\" class=\"dataframe\">\n",
              "  <thead>\n",
              "    <tr style=\"text-align: right;\">\n",
              "      <th></th>\n",
              "      <th>Country</th>\n",
              "      <th>Year</th>\n",
              "      <th>Number of reported cases of cholera</th>\n",
              "      <th>Number of reported deaths from cholera</th>\n",
              "      <th>Cholera case fatality rate</th>\n",
              "      <th>WHO Region</th>\n",
              "    </tr>\n",
              "  </thead>\n",
              "  <tbody>\n",
              "    <tr>\n",
              "      <th>0</th>\n",
              "      <td>Afghanistan</td>\n",
              "      <td>2016</td>\n",
              "      <td>677</td>\n",
              "      <td>5</td>\n",
              "      <td>0.7</td>\n",
              "      <td>Eastern Mediterranean</td>\n",
              "    </tr>\n",
              "    <tr>\n",
              "      <th>1</th>\n",
              "      <td>Afghanistan</td>\n",
              "      <td>2015</td>\n",
              "      <td>58064</td>\n",
              "      <td>8</td>\n",
              "      <td>0.01</td>\n",
              "      <td>Eastern Mediterranean</td>\n",
              "    </tr>\n",
              "    <tr>\n",
              "      <th>2</th>\n",
              "      <td>Afghanistan</td>\n",
              "      <td>2014</td>\n",
              "      <td>45481</td>\n",
              "      <td>4</td>\n",
              "      <td>0.0</td>\n",
              "      <td>Eastern Mediterranean</td>\n",
              "    </tr>\n",
              "    <tr>\n",
              "      <th>3</th>\n",
              "      <td>Afghanistan</td>\n",
              "      <td>2013</td>\n",
              "      <td>3957</td>\n",
              "      <td>14</td>\n",
              "      <td>0.35</td>\n",
              "      <td>Eastern Mediterranean</td>\n",
              "    </tr>\n",
              "    <tr>\n",
              "      <th>4</th>\n",
              "      <td>Afghanistan</td>\n",
              "      <td>2012</td>\n",
              "      <td>12</td>\n",
              "      <td>0</td>\n",
              "      <td>0.1</td>\n",
              "      <td>Eastern Mediterranean</td>\n",
              "    </tr>\n",
              "    <tr>\n",
              "      <th>...</th>\n",
              "      <td>...</td>\n",
              "      <td>...</td>\n",
              "      <td>...</td>\n",
              "      <td>...</td>\n",
              "      <td>...</td>\n",
              "      <td>...</td>\n",
              "    </tr>\n",
              "    <tr>\n",
              "      <th>2487</th>\n",
              "      <td>Russian Federation</td>\n",
              "      <td>1980</td>\n",
              "      <td>2</td>\n",
              "      <td>0</td>\n",
              "      <td>2</td>\n",
              "      <td>Europe</td>\n",
              "    </tr>\n",
              "    <tr>\n",
              "      <th>2488</th>\n",
              "      <td>Russian Federation</td>\n",
              "      <td>1971</td>\n",
              "      <td>2</td>\n",
              "      <td>0</td>\n",
              "      <td>2</td>\n",
              "      <td>Europe</td>\n",
              "    </tr>\n",
              "    <tr>\n",
              "      <th>2489</th>\n",
              "      <td>Sweden</td>\n",
              "      <td>1984</td>\n",
              "      <td>2</td>\n",
              "      <td>0</td>\n",
              "      <td>2</td>\n",
              "      <td>Europe</td>\n",
              "    </tr>\n",
              "    <tr>\n",
              "      <th>2490</th>\n",
              "      <td>Switzerland</td>\n",
              "      <td>1980</td>\n",
              "      <td>2</td>\n",
              "      <td>0</td>\n",
              "      <td>2</td>\n",
              "      <td>Europe</td>\n",
              "    </tr>\n",
              "    <tr>\n",
              "      <th>2491</th>\n",
              "      <td>Cambodia</td>\n",
              "      <td>2011</td>\n",
              "      <td>2</td>\n",
              "      <td>2</td>\n",
              "      <td>0.00</td>\n",
              "      <td>Western Pacific</td>\n",
              "    </tr>\n",
              "  </tbody>\n",
              "</table>\n",
              "<p>2492 rows × 6 columns</p>\n",
              "</div>"
            ],
            "text/plain": [
              "                 Country  ...             WHO Region\n",
              "0            Afghanistan  ...  Eastern Mediterranean\n",
              "1            Afghanistan  ...  Eastern Mediterranean\n",
              "2            Afghanistan  ...  Eastern Mediterranean\n",
              "3            Afghanistan  ...  Eastern Mediterranean\n",
              "4            Afghanistan  ...  Eastern Mediterranean\n",
              "...                  ...  ...                    ...\n",
              "2487  Russian Federation  ...                 Europe\n",
              "2488  Russian Federation  ...                 Europe\n",
              "2489              Sweden  ...                 Europe\n",
              "2490         Switzerland  ...                 Europe\n",
              "2491            Cambodia  ...        Western Pacific\n",
              "\n",
              "[2492 rows x 6 columns]"
            ]
          },
          "metadata": {
            "tags": []
          },
          "execution_count": 35
        }
      ]
    },
    {
      "cell_type": "code",
      "metadata": {
        "id": "-Nd-A5E75ogT",
        "colab_type": "code",
        "colab": {}
      },
      "source": [
        "print(df['Year'])"
      ],
      "execution_count": null,
      "outputs": []
    }
  ]
}